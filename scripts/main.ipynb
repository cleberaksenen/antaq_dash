{
 "cells": [
  {
   "cell_type": "code",
   "execution_count": 1,
   "metadata": {},
   "outputs": [],
   "source": [
    "import os\n",
    "import requests\n",
    "import zipfile\n",
    "import pandas as pd\n",
    "from unidecode import unidecode"
   ]
  },
  {
   "cell_type": "markdown",
   "metadata": {},
   "source": [
    "### Acesso aos dados"
   ]
  },
  {
   "cell_type": "code",
   "execution_count": 2,
   "metadata": {},
   "outputs": [],
   "source": [
    "DOWNLOAD_URL = \"https://web3.antaq.gov.br/ea/txt/\"\n",
    "\n",
    "anos = [\"2021\", \"2022\", \"2023\"] \n",
    "arquivos_desejados = [\"Atracacao\", \"Carga\", \"CargaConteinerizada\"]"
   ]
  },
  {
   "cell_type": "markdown",
   "metadata": {},
   "source": [
    "Criação do diretório \"../Bronze_Layer\""
   ]
  },
  {
   "cell_type": "code",
   "execution_count": 3,
   "metadata": {},
   "outputs": [],
   "source": [
    "os.makedirs(\"../Bronze_Layer\", exist_ok=True)"
   ]
  },
  {
   "cell_type": "markdown",
   "metadata": {},
   "source": [
    "Download dos arquivos"
   ]
  },
  {
   "cell_type": "code",
   "execution_count": 4,
   "metadata": {},
   "outputs": [
    {
     "name": "stdout",
     "output_type": "stream",
     "text": [
      "Baixando https://web3.antaq.gov.br/ea/txt/2021Atracacao.zip...\n",
      "Salvo: ../Bronze_Layer\\Atracacao_2021.zip\n",
      "Baixando https://web3.antaq.gov.br/ea/txt/2021Carga.zip...\n",
      "Salvo: ../Bronze_Layer\\Carga_2021.zip\n",
      "Baixando https://web3.antaq.gov.br/ea/txt/2021CargaConteinerizada.zip...\n",
      "Salvo: ../Bronze_Layer\\CargaConteinerizada_2021.zip\n",
      "Baixando https://web3.antaq.gov.br/ea/txt/2022Atracacao.zip...\n",
      "Salvo: ../Bronze_Layer\\Atracacao_2022.zip\n",
      "Baixando https://web3.antaq.gov.br/ea/txt/2022Carga.zip...\n",
      "Salvo: ../Bronze_Layer\\Carga_2022.zip\n",
      "Baixando https://web3.antaq.gov.br/ea/txt/2022CargaConteinerizada.zip...\n",
      "Salvo: ../Bronze_Layer\\CargaConteinerizada_2022.zip\n",
      "Baixando https://web3.antaq.gov.br/ea/txt/2023Atracacao.zip...\n",
      "Salvo: ../Bronze_Layer\\Atracacao_2023.zip\n",
      "Baixando https://web3.antaq.gov.br/ea/txt/2023Carga.zip...\n",
      "Salvo: ../Bronze_Layer\\Carga_2023.zip\n",
      "Baixando https://web3.antaq.gov.br/ea/txt/2023CargaConteinerizada.zip...\n",
      "Salvo: ../Bronze_Layer\\CargaConteinerizada_2023.zip\n"
     ]
    }
   ],
   "source": [
    "def baixar_arquivos():\n",
    "    for ano in anos:\n",
    "        for arquivo_desejado in arquivos_desejados:\n",
    "            salvar_caminho = os.path.join(\"../Bronze_Layer\", f\"{arquivo_desejado}_{ano}.zip\")\n",
    "            if os.path.exists(salvar_caminho):\n",
    "                print(f\"Arquivo {salvar_caminho} já existe. Pulando...\")\n",
    "                continue\n",
    "            \n",
    "            arquivo_url = f\"{DOWNLOAD_URL}{ano}{arquivo_desejado}.zip\"\n",
    "\n",
    "            print(f\"Baixando {arquivo_url}...\")\n",
    "            with open(salvar_caminho, \"wb\") as f:\n",
    "                f.write(requests.get(arquivo_url).content)\n",
    "            \n",
    "            print(f\"Salvo: {salvar_caminho}\")\n",
    "\n",
    "\n",
    "baixar_arquivos()"
   ]
  },
  {
   "cell_type": "markdown",
   "metadata": {},
   "source": [
    "Descompactação dos arquivos extraídos"
   ]
  },
  {
   "cell_type": "code",
   "execution_count": 5,
   "metadata": {},
   "outputs": [
    {
     "name": "stdout",
     "output_type": "stream",
     "text": [
      "Descompactado: ../Bronze_Layer\\Atracacao_2021.zip -> ../Silver_Layer\\Atracacao_2021\n",
      "Descompactado: ../Bronze_Layer\\Atracacao_2022.zip -> ../Silver_Layer\\Atracacao_2022\n",
      "Descompactado: ../Bronze_Layer\\Atracacao_2023.zip -> ../Silver_Layer\\Atracacao_2023\n",
      "Descompactado: ../Bronze_Layer\\CargaConteinerizada_2021.zip -> ../Silver_Layer\\CargaConteinerizada_2021\n",
      "Descompactado: ../Bronze_Layer\\CargaConteinerizada_2022.zip -> ../Silver_Layer\\CargaConteinerizada_2022\n",
      "Descompactado: ../Bronze_Layer\\CargaConteinerizada_2023.zip -> ../Silver_Layer\\CargaConteinerizada_2023\n",
      "Descompactado: ../Bronze_Layer\\Carga_2021.zip -> ../Silver_Layer\\Carga_2021\n",
      "Descompactado: ../Bronze_Layer\\Carga_2022.zip -> ../Silver_Layer\\Carga_2022\n",
      "Descompactado: ../Bronze_Layer\\Carga_2023.zip -> ../Silver_Layer\\Carga_2023\n"
     ]
    }
   ],
   "source": [
    "def descompactar_arquivos():\n",
    "    for arquivo in os.listdir(\"../Bronze_Layer\"):\n",
    "        if arquivo.endswith(\".zip\"):\n",
    "            caminho_zip = os.path.join(\"../Bronze_Layer\", arquivo)\n",
    "            destino = os.path.join(\"../Silver_Layer\", arquivo.replace(\".zip\", \"\"))\n",
    "\n",
    "            os.makedirs(destino, exist_ok=True)\n",
    "\n",
    "            try:\n",
    "                with zipfile.ZipFile(caminho_zip, 'r') as zip_ref:\n",
    "                    zip_ref.extractall(destino)\n",
    "                    print(f\"Descompactado: {caminho_zip} -> {destino}\")\n",
    "            except zipfile.BadZipFile:\n",
    "                print(f\"Erro: {caminho_zip} não é um arquivo ZIP válido.\")\n",
    "                os.remove(caminho_zip)\n",
    "\n",
    "descompactar_arquivos()"
   ]
  },
  {
   "cell_type": "markdown",
   "metadata": {},
   "source": [
    "União dos arquivos em variáveis (\"Atracacao\", \"Carga\", \"CargaConteinerizada\")"
   ]
  },
  {
   "cell_type": "code",
   "execution_count": 6,
   "metadata": {},
   "outputs": [
    {
     "name": "stderr",
     "output_type": "stream",
     "text": [
      "C:\\Users\\clebe\\AppData\\Local\\Temp\\ipykernel_2736\\2132257145.py:23: DtypeWarning: Columns (27) have mixed types. Specify dtype option on import or set low_memory=False.\n",
      "  dfs = [pd.read_csv(f, delimiter=\";\", header=0) for f in existing_files]\n",
      "C:\\Users\\clebe\\AppData\\Local\\Temp\\ipykernel_2736\\2132257145.py:23: DtypeWarning: Columns (27) have mixed types. Specify dtype option on import or set low_memory=False.\n",
      "  dfs = [pd.read_csv(f, delimiter=\";\", header=0) for f in existing_files]\n",
      "C:\\Users\\clebe\\AppData\\Local\\Temp\\ipykernel_2736\\2132257145.py:23: DtypeWarning: Columns (12,24) have mixed types. Specify dtype option on import or set low_memory=False.\n",
      "  dfs = [pd.read_csv(f, delimiter=\";\", header=0) for f in existing_files]\n",
      "C:\\Users\\clebe\\AppData\\Local\\Temp\\ipykernel_2736\\2132257145.py:23: DtypeWarning: Columns (12,17,24) have mixed types. Specify dtype option on import or set low_memory=False.\n",
      "  dfs = [pd.read_csv(f, delimiter=\";\", header=0) for f in existing_files]\n",
      "C:\\Users\\clebe\\AppData\\Local\\Temp\\ipykernel_2736\\2132257145.py:23: DtypeWarning: Columns (12,17,18,24) have mixed types. Specify dtype option on import or set low_memory=False.\n",
      "  dfs = [pd.read_csv(f, delimiter=\";\", header=0) for f in existing_files]\n",
      "C:\\Users\\clebe\\AppData\\Local\\Temp\\ipykernel_2736\\2132257145.py:23: DtypeWarning: Columns (1) have mixed types. Specify dtype option on import or set low_memory=False.\n",
      "  dfs = [pd.read_csv(f, delimiter=\";\", header=0) for f in existing_files]\n",
      "C:\\Users\\clebe\\AppData\\Local\\Temp\\ipykernel_2736\\2132257145.py:23: DtypeWarning: Columns (1,2) have mixed types. Specify dtype option on import or set low_memory=False.\n",
      "  dfs = [pd.read_csv(f, delimiter=\";\", header=0) for f in existing_files]\n",
      "C:\\Users\\clebe\\AppData\\Local\\Temp\\ipykernel_2736\\2132257145.py:23: DtypeWarning: Columns (1,2) have mixed types. Specify dtype option on import or set low_memory=False.\n",
      "  dfs = [pd.read_csv(f, delimiter=\";\", header=0) for f in existing_files]\n"
     ]
    }
   ],
   "source": [
    "input_dir = \"../Silver_Layer\"\n",
    "\n",
    "arquivos = [\"Atracacao\", \"Carga\", \"CargaConteinerizada\"]\n",
    "anos = [\"2021\", \"2022\", \"2023\"]\n",
    "\n",
    "atracacao = None\n",
    "carga = None\n",
    "carga_cont = None\n",
    "\n",
    "def carregar_dados(arquivo):\n",
    "    input_files = [f\"{input_dir}/{arquivo}_{ano}\" for ano in anos]\n",
    "    \n",
    "    existing_files = []\n",
    "    for folder in input_files:\n",
    "        if os.path.exists(folder):\n",
    "            files = [os.path.join(folder, f) for f in os.listdir(folder) if f.endswith(\".txt\")]\n",
    "            existing_files.extend(files)\n",
    "    \n",
    "    if not existing_files:\n",
    "        print(f\"{arquivo} não encontrado. Indo para o próximo...\")\n",
    "        return None\n",
    "    \n",
    "    dfs = [pd.read_csv(f, delimiter=\";\", header=0) for f in existing_files]\n",
    "    return pd.concat(dfs, ignore_index=True) if dfs else None\n",
    "\n",
    "atracacao = carregar_dados(\"Atracacao\")\n",
    "carga = carregar_dados(\"Carga\")\n",
    "carga_cont = carregar_dados(\"CargaConteinerizada\")"
   ]
  },
  {
   "cell_type": "markdown",
   "metadata": {},
   "source": [
    "### Tratamento dos dados"
   ]
  },
  {
   "cell_type": "markdown",
   "metadata": {},
   "source": [
    "Removendo valores NaN"
   ]
  },
  {
   "cell_type": "code",
   "execution_count": 7,
   "metadata": {},
   "outputs": [],
   "source": [
    "atracacao_tratado = atracacao.fillna(\"\")\n",
    "carga_tratado = carga.fillna(\"\")\n",
    "carga_cont_tratado = carga_cont.fillna(\"\")"
   ]
  },
  {
   "cell_type": "markdown",
   "metadata": {},
   "source": [
    "Removendo acentuação e cedilha"
   ]
  },
  {
   "cell_type": "code",
   "execution_count": 8,
   "metadata": {},
   "outputs": [
    {
     "name": "stderr",
     "output_type": "stream",
     "text": [
      "C:\\Users\\clebe\\AppData\\Local\\Temp\\ipykernel_2736\\185886060.py:2: FutureWarning: DataFrame.applymap has been deprecated. Use DataFrame.map instead.\n",
      "  return df.applymap(lambda x: unidecode(x) if isinstance(x, str) else x)\n"
     ]
    }
   ],
   "source": [
    "def remover_acentos(df):\n",
    "    return df.applymap(lambda x: unidecode(x) if isinstance(x, str) else x)\n",
    "\n",
    "atracacao_tratado = remover_acentos(atracacao_tratado)\n",
    "carga_tratado = remover_acentos(carga_tratado)\n",
    "carga_cont_tratado = remover_acentos(carga_cont_tratado)"
   ]
  },
  {
   "cell_type": "markdown",
   "metadata": {},
   "source": [
    "Normalizando os nomes das colunas"
   ]
  },
  {
   "cell_type": "code",
   "execution_count": 9,
   "metadata": {},
   "outputs": [],
   "source": [
    "def normalizar_nomes_colunas(df):\n",
    "    df.columns = [\n",
    "        unidecode(col).lower().replace(\" \", \"_\") for col in df.columns\n",
    "    ]\n",
    "    return df\n",
    "\n",
    "atracacao_tratado = normalizar_nomes_colunas(atracacao_tratado)\n",
    "carga_tratado = normalizar_nomes_colunas(carga_tratado)\n",
    "carga_cont_tratado = normalizar_nomes_colunas(carga_cont_tratado)"
   ]
  },
  {
   "cell_type": "markdown",
   "metadata": {},
   "source": [
    "### Tratamento individual"
   ]
  },
  {
   "cell_type": "markdown",
   "metadata": {},
   "source": [
    "Tabela atracação"
   ]
  },
  {
   "cell_type": "code",
   "execution_count": 10,
   "metadata": {},
   "outputs": [
    {
     "data": {
      "text/html": [
       "<div>\n",
       "<style scoped>\n",
       "    .dataframe tbody tr th:only-of-type {\n",
       "        vertical-align: middle;\n",
       "    }\n",
       "\n",
       "    .dataframe tbody tr th {\n",
       "        vertical-align: top;\n",
       "    }\n",
       "\n",
       "    .dataframe thead th {\n",
       "        text-align: right;\n",
       "    }\n",
       "</style>\n",
       "<table border=\"1\" class=\"dataframe\">\n",
       "  <thead>\n",
       "    <tr style=\"text-align: right;\">\n",
       "      <th></th>\n",
       "      <th>idatracacao</th>\n",
       "      <th>cdtup</th>\n",
       "      <th>idberco</th>\n",
       "      <th>berco</th>\n",
       "      <th>porto_atracacao</th>\n",
       "      <th>coordenadas</th>\n",
       "      <th>apelido_instalacao_portuaria</th>\n",
       "      <th>complexo_portuario</th>\n",
       "      <th>tipo_da_autoridade_portuaria</th>\n",
       "      <th>data_atracacao</th>\n",
       "      <th>...</th>\n",
       "      <th>flagmcoperacaoatracacao</th>\n",
       "      <th>terminal</th>\n",
       "      <th>municipio</th>\n",
       "      <th>uf</th>\n",
       "      <th>sguf</th>\n",
       "      <th>regiao_geografica</th>\n",
       "      <th>regiao_hidrografica</th>\n",
       "      <th>instalacao_portuaria_em_rio</th>\n",
       "      <th>no_da_capitania</th>\n",
       "      <th>no_do_imo</th>\n",
       "    </tr>\n",
       "  </thead>\n",
       "  <tbody>\n",
       "    <tr>\n",
       "      <th>0</th>\n",
       "      <td>1206398</td>\n",
       "      <td>BRMCZ</td>\n",
       "      <td>MCZ0005</td>\n",
       "      <td>Berco 5</td>\n",
       "      <td>Maceio</td>\n",
       "      <td>-35.726388,-9.683056000000001</td>\n",
       "      <td></td>\n",
       "      <td>Maceio</td>\n",
       "      <td>Porto Organizado</td>\n",
       "      <td>10/12/2021 16:30:00</td>\n",
       "      <td>...</td>\n",
       "      <td>1</td>\n",
       "      <td>Cais do AA-12</td>\n",
       "      <td>Maceio</td>\n",
       "      <td>Alagoas</td>\n",
       "      <td>AL</td>\n",
       "      <td>Nordeste</td>\n",
       "      <td></td>\n",
       "      <td>Nao</td>\n",
       "      <td></td>\n",
       "      <td></td>\n",
       "    </tr>\n",
       "    <tr>\n",
       "      <th>1</th>\n",
       "      <td>1176757</td>\n",
       "      <td>BRREC</td>\n",
       "      <td>RECA-05</td>\n",
       "      <td>RECA-05</td>\n",
       "      <td>Recife</td>\n",
       "      <td>-34.868332,-8.053888000000001</td>\n",
       "      <td>Arrecife dos Navios</td>\n",
       "      <td>Suape - Recife</td>\n",
       "      <td>Porto Organizado</td>\n",
       "      <td>19/07/2021 08:15:00</td>\n",
       "      <td>...</td>\n",
       "      <td>1</td>\n",
       "      <td>Cais Publico</td>\n",
       "      <td>Recife</td>\n",
       "      <td>Pernambuco</td>\n",
       "      <td>PE</td>\n",
       "      <td>Nordeste</td>\n",
       "      <td></td>\n",
       "      <td>Nao</td>\n",
       "      <td></td>\n",
       "      <td></td>\n",
       "    </tr>\n",
       "  </tbody>\n",
       "</table>\n",
       "<p>2 rows × 29 columns</p>\n",
       "</div>"
      ],
      "text/plain": [
       "   idatracacao  cdtup  idberco    berco porto_atracacao  \\\n",
       "0      1206398  BRMCZ  MCZ0005  Berco 5          Maceio   \n",
       "1      1176757  BRREC  RECA-05  RECA-05          Recife   \n",
       "\n",
       "                     coordenadas apelido_instalacao_portuaria  \\\n",
       "0  -35.726388,-9.683056000000001                                \n",
       "1  -34.868332,-8.053888000000001          Arrecife dos Navios   \n",
       "\n",
       "  complexo_portuario tipo_da_autoridade_portuaria       data_atracacao  ...  \\\n",
       "0             Maceio             Porto Organizado  10/12/2021 16:30:00  ...   \n",
       "1     Suape - Recife             Porto Organizado  19/07/2021 08:15:00  ...   \n",
       "\n",
       "  flagmcoperacaoatracacao       terminal municipio          uf  sguf  \\\n",
       "0                       1  Cais do AA-12    Maceio     Alagoas    AL   \n",
       "1                       1   Cais Publico    Recife  Pernambuco    PE   \n",
       "\n",
       "  regiao_geografica regiao_hidrografica instalacao_portuaria_em_rio  \\\n",
       "0          Nordeste                                             Nao   \n",
       "1          Nordeste                                             Nao   \n",
       "\n",
       "  no_da_capitania  no_do_imo  \n",
       "0                             \n",
       "1                             \n",
       "\n",
       "[2 rows x 29 columns]"
      ]
     },
     "execution_count": 10,
     "metadata": {},
     "output_type": "execute_result"
    }
   ],
   "source": [
    "atracacao_tratado.head(2)"
   ]
  },
  {
   "cell_type": "code",
   "execution_count": 11,
   "metadata": {},
   "outputs": [],
   "source": [
    "atracacao_tratado[\"data_atracacao\"] = pd.to_datetime(\n",
    "    atracacao_tratado[\"data_atracacao\"], format=\"%d/%m/%Y %H:%M:%S\")\n",
    "\n",
    "atracacao_tratado[\"data_chegada\"] = pd.to_datetime(\n",
    "    atracacao_tratado[\"data_chegada\"], format=\"%d/%m/%Y %H:%M:%S\")\n",
    "\n",
    "atracacao_tratado[\"data_desatracacao\"] = pd.to_datetime(\n",
    "    atracacao_tratado[\"data_desatracacao\"], format=\"%d/%m/%Y %H:%M:%S\")\n",
    "\n",
    "atracacao_tratado[\"data_inicio_operacao\"] = pd.to_datetime(\n",
    "    atracacao_tratado[\"data_inicio_operacao\"], format=\"%d/%m/%Y %H:%M:%S\")\n",
    "\n",
    "atracacao_tratado[\"data_termino_operacao\"] = pd.to_datetime(\n",
    "    atracacao_tratado[\"data_termino_operacao\"], format=\"%d/%m/%Y %H:%M:%S\")"
   ]
  },
  {
   "cell_type": "code",
   "execution_count": 12,
   "metadata": {},
   "outputs": [],
   "source": [
    "atracacao_tratado[[\"longitude\", \"latitude\"]] = atracacao_tratado[\"coordenadas\"].str.split(\",\", expand=True)\n",
    "atracacao_tratado[[\"longitude\", \"latitude\"]] = atracacao_tratado[[\"longitude\", \"latitude\"]]"
   ]
  },
  {
   "cell_type": "code",
   "execution_count": 13,
   "metadata": {},
   "outputs": [
    {
     "data": {
      "text/html": [
       "<div>\n",
       "<style scoped>\n",
       "    .dataframe tbody tr th:only-of-type {\n",
       "        vertical-align: middle;\n",
       "    }\n",
       "\n",
       "    .dataframe tbody tr th {\n",
       "        vertical-align: top;\n",
       "    }\n",
       "\n",
       "    .dataframe thead th {\n",
       "        text-align: right;\n",
       "    }\n",
       "</style>\n",
       "<table border=\"1\" class=\"dataframe\">\n",
       "  <thead>\n",
       "    <tr style=\"text-align: right;\">\n",
       "      <th></th>\n",
       "      <th>idatracacao</th>\n",
       "      <th>cdtup</th>\n",
       "      <th>idberco</th>\n",
       "      <th>berco</th>\n",
       "      <th>porto_atracacao</th>\n",
       "      <th>coordenadas</th>\n",
       "      <th>apelido_instalacao_portuaria</th>\n",
       "      <th>complexo_portuario</th>\n",
       "      <th>tipo_da_autoridade_portuaria</th>\n",
       "      <th>data_atracacao</th>\n",
       "      <th>...</th>\n",
       "      <th>municipio</th>\n",
       "      <th>uf</th>\n",
       "      <th>sguf</th>\n",
       "      <th>regiao_geografica</th>\n",
       "      <th>regiao_hidrografica</th>\n",
       "      <th>instalacao_portuaria_em_rio</th>\n",
       "      <th>no_da_capitania</th>\n",
       "      <th>no_do_imo</th>\n",
       "      <th>longitude</th>\n",
       "      <th>latitude</th>\n",
       "    </tr>\n",
       "  </thead>\n",
       "  <tbody>\n",
       "    <tr>\n",
       "      <th>0</th>\n",
       "      <td>1206398</td>\n",
       "      <td>BRMCZ</td>\n",
       "      <td>MCZ0005</td>\n",
       "      <td>Berco 5</td>\n",
       "      <td>Maceio</td>\n",
       "      <td>-35.726388,-9.683056000000001</td>\n",
       "      <td></td>\n",
       "      <td>Maceio</td>\n",
       "      <td>Porto Organizado</td>\n",
       "      <td>2021-12-10 16:30:00</td>\n",
       "      <td>...</td>\n",
       "      <td>Maceio</td>\n",
       "      <td>Alagoas</td>\n",
       "      <td>AL</td>\n",
       "      <td>Nordeste</td>\n",
       "      <td></td>\n",
       "      <td>Nao</td>\n",
       "      <td></td>\n",
       "      <td></td>\n",
       "      <td>-35.726388</td>\n",
       "      <td>-9.683056000000001</td>\n",
       "    </tr>\n",
       "    <tr>\n",
       "      <th>1</th>\n",
       "      <td>1176757</td>\n",
       "      <td>BRREC</td>\n",
       "      <td>RECA-05</td>\n",
       "      <td>RECA-05</td>\n",
       "      <td>Recife</td>\n",
       "      <td>-34.868332,-8.053888000000001</td>\n",
       "      <td>Arrecife dos Navios</td>\n",
       "      <td>Suape - Recife</td>\n",
       "      <td>Porto Organizado</td>\n",
       "      <td>2021-07-19 08:15:00</td>\n",
       "      <td>...</td>\n",
       "      <td>Recife</td>\n",
       "      <td>Pernambuco</td>\n",
       "      <td>PE</td>\n",
       "      <td>Nordeste</td>\n",
       "      <td></td>\n",
       "      <td>Nao</td>\n",
       "      <td></td>\n",
       "      <td></td>\n",
       "      <td>-34.868332</td>\n",
       "      <td>-8.053888000000001</td>\n",
       "    </tr>\n",
       "  </tbody>\n",
       "</table>\n",
       "<p>2 rows × 31 columns</p>\n",
       "</div>"
      ],
      "text/plain": [
       "   idatracacao  cdtup  idberco    berco porto_atracacao  \\\n",
       "0      1206398  BRMCZ  MCZ0005  Berco 5          Maceio   \n",
       "1      1176757  BRREC  RECA-05  RECA-05          Recife   \n",
       "\n",
       "                     coordenadas apelido_instalacao_portuaria  \\\n",
       "0  -35.726388,-9.683056000000001                                \n",
       "1  -34.868332,-8.053888000000001          Arrecife dos Navios   \n",
       "\n",
       "  complexo_portuario tipo_da_autoridade_portuaria      data_atracacao  ...  \\\n",
       "0             Maceio             Porto Organizado 2021-12-10 16:30:00  ...   \n",
       "1     Suape - Recife             Porto Organizado 2021-07-19 08:15:00  ...   \n",
       "\n",
       "  municipio          uf sguf regiao_geografica  regiao_hidrografica  \\\n",
       "0    Maceio     Alagoas   AL          Nordeste                        \n",
       "1    Recife  Pernambuco   PE          Nordeste                        \n",
       "\n",
       "  instalacao_portuaria_em_rio no_da_capitania no_do_imo   longitude  \\\n",
       "0                         Nao                            -35.726388   \n",
       "1                         Nao                            -34.868332   \n",
       "\n",
       "             latitude  \n",
       "0  -9.683056000000001  \n",
       "1  -8.053888000000001  \n",
       "\n",
       "[2 rows x 31 columns]"
      ]
     },
     "execution_count": 13,
     "metadata": {},
     "output_type": "execute_result"
    }
   ],
   "source": [
    "atracacao_tratado.head(2)"
   ]
  },
  {
   "cell_type": "markdown",
   "metadata": {},
   "source": [
    "Tabela carga"
   ]
  },
  {
   "cell_type": "code",
   "execution_count": 14,
   "metadata": {},
   "outputs": [
    {
     "data": {
      "text/html": [
       "<div>\n",
       "<style scoped>\n",
       "    .dataframe tbody tr th:only-of-type {\n",
       "        vertical-align: middle;\n",
       "    }\n",
       "\n",
       "    .dataframe tbody tr th {\n",
       "        vertical-align: top;\n",
       "    }\n",
       "\n",
       "    .dataframe thead th {\n",
       "        text-align: right;\n",
       "    }\n",
       "</style>\n",
       "<table border=\"1\" class=\"dataframe\">\n",
       "  <thead>\n",
       "    <tr style=\"text-align: right;\">\n",
       "      <th></th>\n",
       "      <th>idcarga</th>\n",
       "      <th>idatracacao</th>\n",
       "      <th>origem</th>\n",
       "      <th>destino</th>\n",
       "      <th>cdmercadoria</th>\n",
       "      <th>tipo_operacao_da_carga</th>\n",
       "      <th>carga_geral_acondicionamento</th>\n",
       "      <th>conteinerestado</th>\n",
       "      <th>tipo_navegacao</th>\n",
       "      <th>flagautorizacao</th>\n",
       "      <th>...</th>\n",
       "      <th>percurso_transporte_em_vias_interiores</th>\n",
       "      <th>percurso_transporte_interiores</th>\n",
       "      <th>stnaturezacarga</th>\n",
       "      <th>stsh2</th>\n",
       "      <th>stsh4</th>\n",
       "      <th>natureza_da_carga</th>\n",
       "      <th>sentido</th>\n",
       "      <th>teu</th>\n",
       "      <th>qtcarga</th>\n",
       "      <th>vlpesocargabruta</th>\n",
       "    </tr>\n",
       "  </thead>\n",
       "  <tbody>\n",
       "    <tr>\n",
       "      <th>0</th>\n",
       "      <td>27502716</td>\n",
       "      <td>1126626</td>\n",
       "      <td>BR200</td>\n",
       "      <td>BRBEL</td>\n",
       "      <td>2710</td>\n",
       "      <td>Interior</td>\n",
       "      <td></td>\n",
       "      <td></td>\n",
       "      <td>Interior</td>\n",
       "      <td>S</td>\n",
       "      <td>...</td>\n",
       "      <td>Interior de percurso nao identificado</td>\n",
       "      <td>Navegacao Interior</td>\n",
       "      <td>Exclusivo</td>\n",
       "      <td>Exclusivo</td>\n",
       "      <td>Exclusivo</td>\n",
       "      <td>Granel Liquido e Gasoso</td>\n",
       "      <td>Desembarcados</td>\n",
       "      <td>0</td>\n",
       "      <td>0</td>\n",
       "      <td>2476,46</td>\n",
       "    </tr>\n",
       "    <tr>\n",
       "      <th>1</th>\n",
       "      <td>27502733</td>\n",
       "      <td>1126639</td>\n",
       "      <td>BRBEL</td>\n",
       "      <td>BRMCP</td>\n",
       "      <td>2710</td>\n",
       "      <td>Interior</td>\n",
       "      <td></td>\n",
       "      <td></td>\n",
       "      <td>Interior</td>\n",
       "      <td>S</td>\n",
       "      <td>...</td>\n",
       "      <td></td>\n",
       "      <td></td>\n",
       "      <td>Exclusivo</td>\n",
       "      <td>Compartilhado</td>\n",
       "      <td>Compartilhado</td>\n",
       "      <td>Granel Liquido e Gasoso</td>\n",
       "      <td>Embarcados</td>\n",
       "      <td>0</td>\n",
       "      <td>0</td>\n",
       "      <td>264,5</td>\n",
       "    </tr>\n",
       "  </tbody>\n",
       "</table>\n",
       "<p>2 rows × 27 columns</p>\n",
       "</div>"
      ],
      "text/plain": [
       "    idcarga  idatracacao origem destino cdmercadoria tipo_operacao_da_carga  \\\n",
       "0  27502716      1126626  BR200   BRBEL         2710               Interior   \n",
       "1  27502733      1126639  BRBEL   BRMCP         2710               Interior   \n",
       "\n",
       "  carga_geral_acondicionamento conteinerestado tipo_navegacao flagautorizacao  \\\n",
       "0                                                    Interior               S   \n",
       "1                                                    Interior               S   \n",
       "\n",
       "   ... percurso_transporte_em_vias_interiores percurso_transporte_interiores  \\\n",
       "0  ...  Interior de percurso nao identificado             Navegacao Interior   \n",
       "1  ...                                                                         \n",
       "\n",
       "  stnaturezacarga          stsh2          stsh4        natureza_da_carga  \\\n",
       "0       Exclusivo      Exclusivo      Exclusivo  Granel Liquido e Gasoso   \n",
       "1       Exclusivo  Compartilhado  Compartilhado  Granel Liquido e Gasoso   \n",
       "\n",
       "         sentido teu qtcarga vlpesocargabruta  \n",
       "0  Desembarcados   0       0          2476,46  \n",
       "1     Embarcados   0       0            264,5  \n",
       "\n",
       "[2 rows x 27 columns]"
      ]
     },
     "execution_count": 14,
     "metadata": {},
     "output_type": "execute_result"
    }
   ],
   "source": [
    "carga_tratado.head(2)"
   ]
  },
  {
   "cell_type": "code",
   "execution_count": 15,
   "metadata": {},
   "outputs": [],
   "source": [
    "carga_tratado[\"vlpesocargabruta\"] = carga_tratado[\"vlpesocargabruta\"].str.replace(\",\", \".\").astype(float)\n",
    "carga_tratado[\"teu\"] = carga_tratado[\"teu\"].str.replace(\",\", \".\").astype(float)"
   ]
  },
  {
   "cell_type": "markdown",
   "metadata": {},
   "source": [
    "Tabela carga conteineirizada"
   ]
  },
  {
   "cell_type": "code",
   "execution_count": 16,
   "metadata": {},
   "outputs": [
    {
     "data": {
      "text/html": [
       "<div>\n",
       "<style scoped>\n",
       "    .dataframe tbody tr th:only-of-type {\n",
       "        vertical-align: middle;\n",
       "    }\n",
       "\n",
       "    .dataframe tbody tr th {\n",
       "        vertical-align: top;\n",
       "    }\n",
       "\n",
       "    .dataframe thead th {\n",
       "        text-align: right;\n",
       "    }\n",
       "</style>\n",
       "<table border=\"1\" class=\"dataframe\">\n",
       "  <thead>\n",
       "    <tr style=\"text-align: right;\">\n",
       "      <th></th>\n",
       "      <th>IDCarga</th>\n",
       "      <th>CDMercadoriaConteinerizada</th>\n",
       "      <th>VLPesoCargaConteinerizada</th>\n",
       "    </tr>\n",
       "  </thead>\n",
       "  <tbody>\n",
       "    <tr>\n",
       "      <th>0</th>\n",
       "      <td>27566326</td>\n",
       "      <td>45G0</td>\n",
       "      <td>0</td>\n",
       "    </tr>\n",
       "    <tr>\n",
       "      <th>1</th>\n",
       "      <td>27566327</td>\n",
       "      <td>45G0</td>\n",
       "      <td>0</td>\n",
       "    </tr>\n",
       "  </tbody>\n",
       "</table>\n",
       "</div>"
      ],
      "text/plain": [
       "    IDCarga CDMercadoriaConteinerizada VLPesoCargaConteinerizada\n",
       "0  27566326                       45G0                         0\n",
       "1  27566327                       45G0                         0"
      ]
     },
     "execution_count": 16,
     "metadata": {},
     "output_type": "execute_result"
    }
   ],
   "source": [
    "carga_cont.head(2)"
   ]
  },
  {
   "cell_type": "markdown",
   "metadata": {},
   "source": [
    "### Salvando os dados"
   ]
  },
  {
   "cell_type": "code",
   "execution_count": 17,
   "metadata": {},
   "outputs": [],
   "source": [
    "atracacao_tratado.to_csv(\"../Silver_Layer/atracacao_tratado.csv\", sep=\";\", index=False, encoding=\"utf-8\")\n",
    "\n",
    "carga_tratado.to_csv(\"../Silver_Layer/carga_tratado.csv\", sep=\";\", index=False, encoding=\"utf-8\")\n",
    "\n",
    "carga_cont_tratado.to_csv(\"../Silver_Layer/carga_cont_tratado.csv\", sep=\";\", index=False, encoding=\"utf-8\")\n"
   ]
  }
 ],
 "metadata": {
  "kernelspec": {
   "display_name": "Python 3",
   "language": "python",
   "name": "python3"
  },
  "language_info": {
   "codemirror_mode": {
    "name": "ipython",
    "version": 3
   },
   "file_extension": ".py",
   "mimetype": "text/x-python",
   "name": "python",
   "nbconvert_exporter": "python",
   "pygments_lexer": "ipython3",
   "version": "3.13.2"
  }
 },
 "nbformat": 4,
 "nbformat_minor": 2
}
